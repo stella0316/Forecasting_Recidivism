{
 "cells": [
  {
   "cell_type": "code",
   "execution_count": 169,
   "metadata": {},
   "outputs": [
    {
     "name": "stderr",
     "output_type": "stream",
     "text": [
      "/anaconda/lib/python3.6/site-packages/ipykernel_launcher.py:34: SettingWithCopyWarning: \n",
      "A value is trying to be set on a copy of a slice from a DataFrame\n",
      "\n",
      "See the caveats in the documentation: http://pandas.pydata.org/pandas-docs/stable/indexing.html#indexing-view-versus-copy\n",
      "/anaconda/lib/python3.6/site-packages/ipykernel_launcher.py:35: SettingWithCopyWarning: \n",
      "A value is trying to be set on a copy of a slice from a DataFrame\n",
      "\n",
      "See the caveats in the documentation: http://pandas.pydata.org/pandas-docs/stable/indexing.html#indexing-view-versus-copy\n",
      "/anaconda/lib/python3.6/site-packages/ipykernel_launcher.py:36: SettingWithCopyWarning: \n",
      "A value is trying to be set on a copy of a slice from a DataFrame\n",
      "\n",
      "See the caveats in the documentation: http://pandas.pydata.org/pandas-docs/stable/indexing.html#indexing-view-versus-copy\n",
      "/anaconda/lib/python3.6/site-packages/ipykernel_launcher.py:37: SettingWithCopyWarning: \n",
      "A value is trying to be set on a copy of a slice from a DataFrame\n",
      "\n",
      "See the caveats in the documentation: http://pandas.pydata.org/pandas-docs/stable/indexing.html#indexing-view-versus-copy\n",
      "/anaconda/lib/python3.6/site-packages/ipykernel_launcher.py:38: SettingWithCopyWarning: \n",
      "A value is trying to be set on a copy of a slice from a DataFrame\n",
      "\n",
      "See the caveats in the documentation: http://pandas.pydata.org/pandas-docs/stable/indexing.html#indexing-view-versus-copy\n",
      "/anaconda/lib/python3.6/site-packages/ipykernel_launcher.py:39: SettingWithCopyWarning: \n",
      "A value is trying to be set on a copy of a slice from a DataFrame\n",
      "\n",
      "See the caveats in the documentation: http://pandas.pydata.org/pandas-docs/stable/indexing.html#indexing-view-versus-copy\n"
     ]
    },
    {
     "data": {
      "text/html": [
       "<div>\n",
       "<style>\n",
       "    .dataframe thead tr:only-child th {\n",
       "        text-align: right;\n",
       "    }\n",
       "\n",
       "    .dataframe thead th {\n",
       "        text-align: left;\n",
       "    }\n",
       "\n",
       "    .dataframe tbody tr th {\n",
       "        vertical-align: top;\n",
       "    }\n",
       "</style>\n",
       "<table border=\"1\" class=\"dataframe\">\n",
       "  <thead>\n",
       "    <tr style=\"text-align: right;\">\n",
       "      <th></th>\n",
       "      <th>gender</th>\n",
       "      <th>race</th>\n",
       "      <th>category</th>\n",
       "      <th>MajorGroupDetail</th>\n",
       "      <th>AgeAtFirst</th>\n",
       "      <th>OrderProtect</th>\n",
       "      <th>Housing</th>\n",
       "      <th>Age</th>\n",
       "      <th>MisdConviction</th>\n",
       "      <th>FelonyConviction</th>\n",
       "      <th>...</th>\n",
       "      <th>Jail10</th>\n",
       "      <th>Prison10</th>\n",
       "      <th>CareerLength</th>\n",
       "      <th>CvtDensity</th>\n",
       "      <th>NewArrests36</th>\n",
       "      <th>NewFelArrests36</th>\n",
       "      <th>NewMisdArrests36</th>\n",
       "      <th>NewViolArrests36</th>\n",
       "      <th>NewArrest36Type</th>\n",
       "      <th>NewArrest36Type_binary</th>\n",
       "    </tr>\n",
       "    <tr>\n",
       "      <th>defendantid</th>\n",
       "      <th></th>\n",
       "      <th></th>\n",
       "      <th></th>\n",
       "      <th></th>\n",
       "      <th></th>\n",
       "      <th></th>\n",
       "      <th></th>\n",
       "      <th></th>\n",
       "      <th></th>\n",
       "      <th></th>\n",
       "      <th></th>\n",
       "      <th></th>\n",
       "      <th></th>\n",
       "      <th></th>\n",
       "      <th></th>\n",
       "      <th></th>\n",
       "      <th></th>\n",
       "      <th></th>\n",
       "      <th></th>\n",
       "      <th></th>\n",
       "      <th></th>\n",
       "    </tr>\n",
       "  </thead>\n",
       "  <tbody>\n",
       "    <tr>\n",
       "      <th>15372</th>\n",
       "      <td>0</td>\n",
       "      <td>Asian/Pacific Islander</td>\n",
       "      <td>Misdemeanor</td>\n",
       "      <td>UGV</td>\n",
       "      <td>NaN</td>\n",
       "      <td>0</td>\n",
       "      <td>0</td>\n",
       "      <td>32.0</td>\n",
       "      <td>0</td>\n",
       "      <td>0</td>\n",
       "      <td>...</td>\n",
       "      <td>0</td>\n",
       "      <td>0</td>\n",
       "      <td>NaN</td>\n",
       "      <td>NaN</td>\n",
       "      <td>0</td>\n",
       "      <td>0</td>\n",
       "      <td>0</td>\n",
       "      <td>0</td>\n",
       "      <td>None</td>\n",
       "      <td>0</td>\n",
       "    </tr>\n",
       "    <tr>\n",
       "      <th>16191</th>\n",
       "      <td>1</td>\n",
       "      <td>Black</td>\n",
       "      <td>Misdemeanor</td>\n",
       "      <td>Forged Instrument</td>\n",
       "      <td>30.0</td>\n",
       "      <td>0</td>\n",
       "      <td>0</td>\n",
       "      <td>42.0</td>\n",
       "      <td>0</td>\n",
       "      <td>0</td>\n",
       "      <td>...</td>\n",
       "      <td>0</td>\n",
       "      <td>0</td>\n",
       "      <td>12.0</td>\n",
       "      <td>0.000000</td>\n",
       "      <td>0</td>\n",
       "      <td>0</td>\n",
       "      <td>0</td>\n",
       "      <td>0</td>\n",
       "      <td>None</td>\n",
       "      <td>0</td>\n",
       "    </tr>\n",
       "    <tr>\n",
       "      <th>24</th>\n",
       "      <td>0</td>\n",
       "      <td>Black</td>\n",
       "      <td>Misdemeanor</td>\n",
       "      <td>Marijuana</td>\n",
       "      <td>23.0</td>\n",
       "      <td>1</td>\n",
       "      <td>0</td>\n",
       "      <td>30.0</td>\n",
       "      <td>1</td>\n",
       "      <td>0</td>\n",
       "      <td>...</td>\n",
       "      <td>4</td>\n",
       "      <td>0</td>\n",
       "      <td>8.0</td>\n",
       "      <td>0.866025</td>\n",
       "      <td>1</td>\n",
       "      <td>0</td>\n",
       "      <td>1</td>\n",
       "      <td>0</td>\n",
       "      <td>Misdemeanor</td>\n",
       "      <td>1</td>\n",
       "    </tr>\n",
       "    <tr>\n",
       "      <th>959</th>\n",
       "      <td>0</td>\n",
       "      <td>Black-Hispanic</td>\n",
       "      <td>Misdemeanor</td>\n",
       "      <td>Drugs</td>\n",
       "      <td>33.0</td>\n",
       "      <td>0</td>\n",
       "      <td>1</td>\n",
       "      <td>54.0</td>\n",
       "      <td>1</td>\n",
       "      <td>1</td>\n",
       "      <td>...</td>\n",
       "      <td>11</td>\n",
       "      <td>0</td>\n",
       "      <td>23.0</td>\n",
       "      <td>1.693979</td>\n",
       "      <td>18</td>\n",
       "      <td>1</td>\n",
       "      <td>17</td>\n",
       "      <td>0</td>\n",
       "      <td>Non-Violent Felony</td>\n",
       "      <td>1</td>\n",
       "    </tr>\n",
       "    <tr>\n",
       "      <th>1596</th>\n",
       "      <td>0</td>\n",
       "      <td>Black</td>\n",
       "      <td>Felony</td>\n",
       "      <td>Grand Larceny</td>\n",
       "      <td>18.0</td>\n",
       "      <td>0</td>\n",
       "      <td>0</td>\n",
       "      <td>24.0</td>\n",
       "      <td>1</td>\n",
       "      <td>1</td>\n",
       "      <td>...</td>\n",
       "      <td>2</td>\n",
       "      <td>0</td>\n",
       "      <td>7.0</td>\n",
       "      <td>0.845154</td>\n",
       "      <td>1</td>\n",
       "      <td>1</td>\n",
       "      <td>0</td>\n",
       "      <td>0</td>\n",
       "      <td>Non-Violent Felony</td>\n",
       "      <td>1</td>\n",
       "    </tr>\n",
       "  </tbody>\n",
       "</table>\n",
       "<p>5 rows × 79 columns</p>\n",
       "</div>"
      ],
      "text/plain": [
       "            gender                    race     category   MajorGroupDetail  \\\n",
       "defendantid                                                                  \n",
       "15372            0  Asian/Pacific Islander  Misdemeanor                UGV   \n",
       "16191            1                   Black  Misdemeanor  Forged Instrument   \n",
       "24               0                   Black  Misdemeanor          Marijuana   \n",
       "959              0          Black-Hispanic  Misdemeanor              Drugs   \n",
       "1596             0                   Black       Felony      Grand Larceny   \n",
       "\n",
       "             AgeAtFirst  OrderProtect  Housing   Age  MisdConviction  \\\n",
       "defendantid                                                            \n",
       "15372               NaN             0        0  32.0               0   \n",
       "16191              30.0             0        0  42.0               0   \n",
       "24                 23.0             1        0  30.0               1   \n",
       "959                33.0             0        1  54.0               1   \n",
       "1596               18.0             0        0  24.0               1   \n",
       "\n",
       "             FelonyConviction           ...            Jail10  Prison10  \\\n",
       "defendantid                             ...                               \n",
       "15372                       0           ...                 0         0   \n",
       "16191                       0           ...                 0         0   \n",
       "24                          0           ...                 4         0   \n",
       "959                         1           ...                11         0   \n",
       "1596                        1           ...                 2         0   \n",
       "\n",
       "             CareerLength  CvtDensity  NewArrests36  NewFelArrests36  \\\n",
       "defendantid                                                            \n",
       "15372                 NaN         NaN             0                0   \n",
       "16191                12.0    0.000000             0                0   \n",
       "24                    8.0    0.866025             1                0   \n",
       "959                  23.0    1.693979            18                1   \n",
       "1596                  7.0    0.845154             1                1   \n",
       "\n",
       "             NewMisdArrests36  NewViolArrests36     NewArrest36Type  \\\n",
       "defendantid                                                           \n",
       "15372                       0                 0                None   \n",
       "16191                       0                 0                None   \n",
       "24                          1                 0         Misdemeanor   \n",
       "959                        17                 0  Non-Violent Felony   \n",
       "1596                        0                 0  Non-Violent Felony   \n",
       "\n",
       "             NewArrest36Type_binary  \n",
       "defendantid                          \n",
       "15372                             0  \n",
       "16191                             0  \n",
       "24                                1  \n",
       "959                               1  \n",
       "1596                              1  \n",
       "\n",
       "[5 rows x 79 columns]"
      ]
     },
     "execution_count": 169,
     "metadata": {},
     "output_type": "execute_result"
    }
   ],
   "source": [
    "import os\n",
    "import pandas as pd\n",
    "import numpy as np\n",
    "\n",
    "cwd = os.getcwd()\n",
    "datadir = '/'.join(cwd.split('/')[0:-1])+ '/'\n",
    "cwd\n",
    "df = pd.read_csv('data.csv')\n",
    "df = df.set_index('defendantid')\n",
    "\n",
    "# df.dropna(axis = 0,inplace = True)\n",
    "\n",
    "# IMPORTANT - dropna dropped 48k rows from our original dataset of 100k.\n",
    "df.columns[df.isnull().any()]\n",
    "# So columns which have null values: ['race', 'category', 'MajorGroupDetail', 'AgeAtFirst', 'Age',\n",
    "# 'CareerLength', 'CvtDensity']\n",
    "\n",
    "# count of null values in each column [AgeAtFirst,CareerLength and CvtDensity have > 40k NA values.]\n",
    "# Upon checking the feature importance values from the random forest built in the exploration file, \n",
    "# it seems these 3 are the most important variables.\n",
    "\n",
    "# We'll need to chek the feature importance to decide whether to keep those instances / transform them or not.\n",
    "df[['race','category','MajorGroupDetail','AgeAtFirst','Age','CareerLength','CvtDensity']].isnull().sum()\n",
    "\n",
    "df[df.columns[-10:]]\n",
    "\n",
    "df.drop(['NewViolArrest36','NewMisdArrest36','NewFelArrest36','NewArrest36'],axis = 1, inplace = True)\n",
    "df.columns\n",
    "\n",
    "#created binary target variable\n",
    "df['NewArrest36Type_binary'] = df['NewArrest36Type']\n",
    "df['category'] = df['category'].fillna('Unspecified')\n",
    "#classified target variable from multiclass to binary\n",
    "df.NewArrest36Type_binary[df.NewArrest36Type_binary == 'None'] = 0 \n",
    "df.NewArrest36Type_binary[df.NewArrest36Type_binary == 'Misdemeanor'] = 1 \n",
    "df.NewArrest36Type_binary[df.NewArrest36Type_binary == 'Non-Violent Felony'] = 1 \n",
    "df.NewArrest36Type_binary[df.NewArrest36Type_binary == 'Violent Felony'] = 1 \n",
    "df.gender[df.gender == 'M'] = 0 \n",
    "df.gender[df.gender == 'F'] = 1 \n",
    "df.head()"
   ]
  },
  {
   "cell_type": "code",
   "execution_count": 170,
   "metadata": {},
   "outputs": [
    {
     "data": {
      "text/plain": [
       "Index(['race', 'MajorGroupDetail', 'AgeAtFirst', 'Age', 'CareerLength',\n",
       "       'CvtDensity'],\n",
       "      dtype='object')"
      ]
     },
     "execution_count": 170,
     "metadata": {},
     "output_type": "execute_result"
    }
   ],
   "source": [
    "df.columns[df.isnull().any()]"
   ]
  },
  {
   "cell_type": "code",
   "execution_count": 171,
   "metadata": {},
   "outputs": [
    {
     "data": {
      "text/plain": [
       "array(['Asian/Pacific Islander', 'Black', 'Black-Hispanic',\n",
       "       'White-Hispanic', 'White', 'Unsure', 'Unknown',\n",
       "       'American Indian/Alaskan Native', nan], dtype=object)"
      ]
     },
     "execution_count": 171,
     "metadata": {},
     "output_type": "execute_result"
    }
   ],
   "source": [
    "df.race.unique()"
   ]
  },
  {
   "cell_type": "code",
   "execution_count": 172,
   "metadata": {
    "collapsed": true
   },
   "outputs": [],
   "source": [
    "df.drop(['MajorGroupDetail','NewViolArrests36','NewMisdArrests36','NewFelArrests36','NewArrests36','NewArrest36Type'],axis = 1, inplace = True)\n"
   ]
  },
  {
   "cell_type": "code",
   "execution_count": 173,
   "metadata": {
    "collapsed": true
   },
   "outputs": [],
   "source": [
    "# from categorical data to binary data\n",
    "cols_to_transform = [ 'race', 'category']\n",
    "df = pd.get_dummies( df,columns = cols_to_transform) "
   ]
  },
  {
   "cell_type": "code",
   "execution_count": 174,
   "metadata": {
    "collapsed": true,
    "scrolled": true
   },
   "outputs": [],
   "source": [
    "df.AgeAtFirst = df.AgeAtFirst.combine_first(df.Age)\n",
    "df.CareerLength = df.CareerLength.replace(np.nan,0)\n",
    "df.CvtDensity = df.CvtDensity.replace(np.nan,0)\n"
   ]
  },
  {
   "cell_type": "code",
   "execution_count": 175,
   "metadata": {
    "collapsed": true
   },
   "outputs": [],
   "source": [
    "df = df.rename(columns={'NewArrest36Type_binary':'NewArrest36'})\n",
    "#classified target variable from multiclass to binary\n",
    "df['NewArrest36'] = df['NewArrest36'].apply(lambda x:0 if x == 'None' else 1 )"
   ]
  },
  {
   "cell_type": "code",
   "execution_count": 176,
   "metadata": {
    "collapsed": true
   },
   "outputs": [],
   "source": [
    "for i in df.columns:\n",
    "    if '10' in i or '9' in i:\n",
    "        df = df.drop(i,axis = 1)"
   ]
  },
  {
   "cell_type": "code",
   "execution_count": 177,
   "metadata": {
    "collapsed": true
   },
   "outputs": [],
   "source": [
    "df = df.drop('Gang',axis = 1)"
   ]
  },
  {
   "cell_type": "code",
   "execution_count": 178,
   "metadata": {
    "collapsed": true
   },
   "outputs": [],
   "source": [
    "#check missing value\n",
    "df.isnull().sum()\n",
    "\n",
    "#switch 1,0 for housing col \n",
    "df['Housing'] = df['Housing'].apply(lambda x: 1  if x==0 else 0)"
   ]
  },
  {
   "cell_type": "code",
   "execution_count": null,
   "metadata": {
    "collapsed": true
   },
   "outputs": [],
   "source": []
  },
  {
   "cell_type": "code",
   "execution_count": null,
   "metadata": {
    "collapsed": true
   },
   "outputs": [],
   "source": []
  },
  {
   "cell_type": "code",
   "execution_count": null,
   "metadata": {
    "collapsed": true
   },
   "outputs": [],
   "source": []
  }
 ],
 "metadata": {
  "kernelspec": {
   "display_name": "Python 3",
   "language": "python",
   "name": "python3"
  },
  "language_info": {
   "codemirror_mode": {
    "name": "ipython",
    "version": 3
   },
   "file_extension": ".py",
   "mimetype": "text/x-python",
   "name": "python",
   "nbconvert_exporter": "python",
   "pygments_lexer": "ipython3",
   "version": "3.6.0"
  }
 },
 "nbformat": 4,
 "nbformat_minor": 2
}
