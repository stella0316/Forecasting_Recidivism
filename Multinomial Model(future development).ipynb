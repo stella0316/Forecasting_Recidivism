{
 "cells": [
  {
   "cell_type": "code",
   "execution_count": 1,
   "metadata": {
    "collapsed": true
   },
   "outputs": [],
   "source": [
    "import os\n",
    "import pandas as pd\n",
    "import numpy as np\n",
    "import matplotlib.pyplot as plt \n",
    "import seaborn as sns\n",
    "from sklearn.linear_model import LogisticRegression\n",
    "from sklearn.metrics import accuracy_score\n",
    "\n",
    "#set datadir based on cwd\n",
    "cwd = os.getcwd()\n",
    "#OSX\n",
    "datadir = cwd + '/data/'\n",
    "raw = pd.read_csv(datadir+'raw.csv')"
   ]
  },
  {
   "cell_type": "code",
   "execution_count": 2,
   "metadata": {},
   "outputs": [],
   "source": [
    "df = raw.drop(['defendantid','NewArrests36','NewFelArrests36', 'NewMisdArrests36', 'NewViolArrests36','NewArrest36', 'NewFelArrest36', 'NewMisdArrest36', 'NewViolArrest36'],axis = 1)\n",
    "\n",
    "#created binary target variable\n",
    "#classified target variable as multi-class\n",
    "df['NewArrest36Type'] = df['NewArrest36Type'].apply(lambda x:0 if x == 'None' else (1 if x =='Misdemeanor' else (2 if x == 'Non-Violent Felony' else 3)) )"
   ]
  },
  {
   "cell_type": "code",
   "execution_count": 3,
   "metadata": {},
   "outputs": [],
   "source": [
    "#Step 1: drop all columns with 10 and 9. We only look at data within 5 years\n",
    "for i in df.columns:\n",
    "    if '10' in i or '9' in i:\n",
    "        df = df.drop(i,axis = 1)\n",
    "        \n",
    "#Step 2: drop features based on domain knowledge\n",
    "df = df.drop(['CareerLength','MajorGroupDetail','CvtTypes'],axis = 1)"
   ]
  },
  {
   "cell_type": "code",
   "execution_count": 4,
   "metadata": {},
   "outputs": [
    {
     "data": {
      "text/plain": [
       "gender                   0\n",
       "race                     4\n",
       "category               191\n",
       "AgeAtFirst           47661\n",
       "OrderProtect             0\n",
       "Housing                  0\n",
       "Age                    147\n",
       "MisdConviction           0\n",
       "FelonyConviction         0\n",
       "ViolentConviction        0\n",
       "ViolentOffense           0\n",
       "Gang                     0\n",
       "BWO24                    0\n",
       "BWO24Plus                0\n",
       "Arrests                  0\n",
       "FelArrests               0\n",
       "MisdArrests              0\n",
       "ViolArrests              0\n",
       "Arrests5                 0\n",
       "FelArrests5              0\n",
       "MisdArrests5             0\n",
       "ViolArrests5             0\n",
       "Cvts                     0\n",
       "FelCvts                  0\n",
       "MisdCvts                 0\n",
       "ViolCvts                 0\n",
       "DrugCvts                 0\n",
       "DrugFelCvts              0\n",
       "SexCvts                  0\n",
       "BurgFelCvts              0\n",
       "RobFelCvts               0\n",
       "LarcFelCvts              0\n",
       "AssFelCvts               0\n",
       "WeapFelCvts              0\n",
       "Cvts5                    0\n",
       "CvtCounties              0\n",
       "FelCvts5                 0\n",
       "MisdCvts5                0\n",
       "ViolCvts5                0\n",
       "DrugCvts5                0\n",
       "CvtTypes5                0\n",
       "CvtCounties5             0\n",
       "Incarcerations           0\n",
       "Jail                     0\n",
       "Prison                   0\n",
       "Incarcerations5          0\n",
       "Jail5                    0\n",
       "Prison5                  0\n",
       "CvtDensity           41926\n",
       "NewArrest36Type          0\n",
       "dtype: int64"
      ]
     },
     "execution_count": 4,
     "metadata": {},
     "output_type": "execute_result"
    }
   ],
   "source": [
    "#some cleaning\n",
    "df['race'] = df['race'].apply(lambda x: 'Unknown' if x == 'Unsure' else x)\n",
    "#check missing value\n",
    "df.isnull().sum()"
   ]
  },
  {
   "cell_type": "code",
   "execution_count": 5,
   "metadata": {},
   "outputs": [
    {
     "data": {
      "text/plain": [
       "gender               0\n",
       "race                 0\n",
       "category             0\n",
       "AgeAtFirst           0\n",
       "OrderProtect         0\n",
       "Housing              0\n",
       "Age                  0\n",
       "MisdConviction       0\n",
       "FelonyConviction     0\n",
       "ViolentConviction    0\n",
       "ViolentOffense       0\n",
       "Gang                 0\n",
       "BWO24                0\n",
       "BWO24Plus            0\n",
       "Arrests              0\n",
       "FelArrests           0\n",
       "MisdArrests          0\n",
       "ViolArrests          0\n",
       "Arrests5             0\n",
       "FelArrests5          0\n",
       "MisdArrests5         0\n",
       "ViolArrests5         0\n",
       "Cvts                 0\n",
       "FelCvts              0\n",
       "MisdCvts             0\n",
       "ViolCvts             0\n",
       "DrugCvts             0\n",
       "DrugFelCvts          0\n",
       "SexCvts              0\n",
       "BurgFelCvts          0\n",
       "RobFelCvts           0\n",
       "LarcFelCvts          0\n",
       "AssFelCvts           0\n",
       "WeapFelCvts          0\n",
       "Cvts5                0\n",
       "CvtCounties          0\n",
       "FelCvts5             0\n",
       "MisdCvts5            0\n",
       "ViolCvts5            0\n",
       "DrugCvts5            0\n",
       "CvtTypes5            0\n",
       "CvtCounties5         0\n",
       "Incarcerations       0\n",
       "Jail                 0\n",
       "Prison               0\n",
       "Incarcerations5      0\n",
       "Jail5                0\n",
       "Prison5              0\n",
       "CvtDensity           0\n",
       "NewArrest36Type      0\n",
       "dtype: int64"
      ]
     },
     "execution_count": 5,
     "metadata": {},
     "output_type": "execute_result"
    }
   ],
   "source": [
    "#Fill missing values \n",
    "df['category'] = df['category'].fillna('Unspecified')\n",
    "#Two main cols with missing values are AgeAtFirst and CvtDensity. Based on the data source, we replace the NA with appropriate value\n",
    "df.AgeAtFirst = df.AgeAtFirst.combine_first(df.Age)\n",
    "df.CvtDensity = df.CvtDensity.replace(np.nan,0)\n",
    "\n",
    "#drop na values and check missing values again\n",
    "df = df.dropna()\n",
    "df.isnull().sum()"
   ]
  },
  {
   "cell_type": "code",
   "execution_count": 6,
   "metadata": {
    "collapsed": true
   },
   "outputs": [],
   "source": [
    "#Step 3: get dummy variables to multi-class features and make binary class features to (1,0)\n",
    "cols_to_transform = ['race', 'category']\n",
    "df = pd.get_dummies(df,columns = cols_to_transform) \n",
    "df['gender'] = df['gender'].apply(lambda x:1 if x == 'F' else 0)\n",
    "\n",
    "#Step 4: make some change to specific columns\n",
    "#switch 1,0 for housing col \n",
    "df['Housing'] = df['Housing'].apply(lambda x: 1  if x==0 else 0)"
   ]
  },
  {
   "cell_type": "code",
   "execution_count": 7,
   "metadata": {},
   "outputs": [
    {
     "data": {
      "image/png": "[encoded data removed]",
      "text/plain": [
       "<matplotlib.figure.Figure at 0x105bda2e8>"
      ]
     },
     "metadata": {},
     "output_type": "display_data"
    }
   ],
   "source": [
    "sns.countplot(x='NewArrest36Type',data = df,palette='hls')\n",
    "plt.show()"
   ]
  },
  {
   "cell_type": "markdown",
   "metadata": {},
   "source": [
    "This is not a balanced dataset"
   ]
  },
  {
   "cell_type": "code",
   "execution_count": 16,
   "metadata": {
    "collapsed": true
   },
   "outputs": [],
   "source": [
    "target = 'NewArrest36Type'\n",
    "train_df = df.sample(frac=0.7, replace=False)\n",
    "test_df = df[~df.index.isin(train_df.index)]\n",
    "#check if train_df and test_df overlap\n",
    "if(len(train_df) + len(test_df) == len(df)):\n",
    "    #Set up X Y\n",
    "    X_train = train_df.drop(target, 1)\n",
    "    Y_train = train_df[target]\n",
    "    X_test = test_df.drop(target, 1)\n",
    "    Y_test = test_df[target]\n",
    "    train_samples = len(train_df)\n",
    "else:\n",
    "    print(\"Check sample split\")"
   ]
  },
  {
   "cell_type": "code",
   "execution_count": 29,
   "metadata": {},
   "outputs": [
    {
     "data": {
      "text/plain": [
       "0.68994525303778875"
      ]
     },
     "execution_count": 29,
     "metadata": {},
     "output_type": "execute_result"
    }
   ],
   "source": [
    "clf = LogisticRegression(multi_class='multinomial',solver='newton-cg')\n",
    "clf.fit(X_train, Y_train)\n",
    "yhat = clf.predict(X_test)\n",
    "accuracy_score(Y_test, yhat)"
   ]
  },
  {
   "cell_type": "code",
   "execution_count": 35,
   "metadata": {},
   "outputs": [
    {
     "data": {
      "text/plain": [
       "0.69007878221391372"
      ]
     },
     "execution_count": 35,
     "metadata": {},
     "output_type": "execute_result"
    }
   ],
   "source": [
    "from sklearn.preprocessing import StandardScaler\n",
    "scaler = StandardScaler()\n",
    "X_train_1 = scaler.fit_transform(X_train)\n",
    "X_test_1 = scaler.transform(X_test)\n",
    "\n",
    "clf1 = LogisticRegression(multi_class='multinomial',solver='sag',tol=0.1)\n",
    "clf1.fit(X_train_1, Y_train)\n",
    "yhat = clf1.predict(X_test_1)\n",
    "accuracy_score(Y_test, yhat)"
   ]
  },
  {
   "cell_type": "code",
   "execution_count": null,
   "metadata": {
    "collapsed": true
   },
   "outputs": [],
   "source": []
  }
 ],
 "metadata": {
  "kernelspec": {
   "display_name": "Python 3",
   "language": "python",
   "name": "python3"
  },
  "language_info": {
   "codemirror_mode": {
    "name": "ipython",
    "version": 3
   },
   "file_extension": ".py",
   "mimetype": "text/x-python",
   "name": "python",
   "nbconvert_exporter": "python",
   "pygments_lexer": "ipython3",
   "version": "3.6.0"
  }
 },
 "nbformat": 4,
 "nbformat_minor": 2
}
